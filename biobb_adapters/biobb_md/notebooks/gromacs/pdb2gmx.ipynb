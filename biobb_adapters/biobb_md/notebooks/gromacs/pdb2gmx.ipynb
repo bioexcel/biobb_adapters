{
 "cells": [
  {
   "cell_type": "code",
   "execution_count": 13,
   "metadata": {},
   "outputs": [],
   "source": [
    "# Import module to test\n",
    "from gromacs.pdb2gmx import Pdb2gmx"
   ]
  },
  {
   "cell_type": "code",
   "execution_count": 14,
   "metadata": {},
   "outputs": [],
   "source": [
    "# Create prop dict and inputs/outputs\n",
    "prop = {}\n",
    "input_pdb_path = '../../test/data/gromacs/pyruvate_kinase.pdb'\n",
    "output_gro_path = 'output_gro_path.gro'\n",
    "output_top_zip_path = 'output_top_zip_path.zip'"
   ]
  },
  {
   "cell_type": "code",
   "execution_count": 15,
   "metadata": {},
   "outputs": [
    {
     "data": {
      "text/plain": [
       "0"
      ]
     },
     "execution_count": 15,
     "metadata": {},
     "output_type": "execute_result"
    }
   ],
   "source": [
    "#Create and launch bb\n",
    "Pdb2gmx(input_pdb_path=input_pdb_path, output_gro_path=output_gro_path, output_top_zip_path=output_top_zip_path,  properties=prop).launch()"
   ]
  },
  {
   "cell_type": "code",
   "execution_count": 19,
   "metadata": {},
   "outputs": [
    {
     "name": "stdout",
     "output_type": "stream",
     "text": [
      "2018-10-10 16:17:11,370 [MainThread  ] [INFO ]  gmx pdb2gmx -f ../../test/data/gromacs/pyruvate_kinase.pdb -o output_gro_path.gro -p p2g.top -water spce -ff amber99sb-ildn -i p2g.itp\r\n",
      "\r\n",
      "2018-10-10 16:17:11,370 [MainThread  ] [INFO ]  Exit code 0\r\n"
     ]
    }
   ],
   "source": [
    "#Show log\n",
    "!head -n 3 log.out"
   ]
  },
  {
   "cell_type": "code",
   "execution_count": 20,
   "metadata": {},
   "outputs": [],
   "source": [
    "#Unzip list\n",
    "from biobb_common.tools.file_utils import unzip_list\n",
    "file_list = unzip_list(output_top_zip_path)"
   ]
  },
  {
   "cell_type": "code",
   "execution_count": 21,
   "metadata": {},
   "outputs": [
    {
     "name": "stdout",
     "output_type": "stream",
     "text": [
      "/Users/pau/projects/biobb_md/biobb_md/notebooks/gromacs/p2g_Protein_chain_C_pr.itp:\n",
      "; In this topology include file, you will find position restraint\n",
      "; entries for all the heavy atoms in your original pdb file.\n",
      "\n",
      "/Users/pau/projects/biobb_md/biobb_md/notebooks/gromacs/p2g_Protein_chain_A_pr.itp:\n",
      "; In this topology include file, you will find position restraint\n",
      "; entries for all the heavy atoms in your original pdb file.\n",
      "\n",
      "/Users/pau/projects/biobb_md/biobb_md/notebooks/gromacs/p2g_Protein_chain_C.itp:\n",
      ";\n",
      ";\tFile 'p2g_Protein_chain_C.itp' was generated\n",
      "\n",
      "/Users/pau/projects/biobb_md/biobb_md/notebooks/gromacs/p2g_Protein_chain_B.itp:\n",
      ";\n",
      ";\tFile 'p2g_Protein_chain_B.itp' was generated\n",
      "\n",
      "/Users/pau/projects/biobb_md/biobb_md/notebooks/gromacs/p2g_Protein_chain_A.itp:\n",
      ";\n",
      ";\tFile 'p2g_Protein_chain_A.itp' was generated\n",
      "\n",
      "/Users/pau/projects/biobb_md/biobb_md/notebooks/gromacs/p2g_Protein_chain_D.itp:\n",
      ";\n",
      ";\tFile 'p2g_Protein_chain_D.itp' was generated\n",
      "\n",
      "/Users/pau/projects/biobb_md/biobb_md/notebooks/gromacs/p2g.top:\n",
      ";\n",
      ";\tFile 'p2g.top' was generated\n",
      "\n",
      "/Users/pau/projects/biobb_md/biobb_md/notebooks/gromacs/p2g_Protein_chain_B_pr.itp:\n",
      "; In this topology include file, you will find position restraint\n",
      "; entries for all the heavy atoms in your original pdb file.\n",
      "\n",
      "/Users/pau/projects/biobb_md/biobb_md/notebooks/gromacs/p2g_Protein_chain_D_pr.itp:\n",
      "; In this topology include file, you will find position restraint\n",
      "; entries for all the heavy atoms in your original pdb file.\n",
      "\n"
     ]
    }
   ],
   "source": [
    "#Show result\n",
    "for file_path in file_list:\n",
    "    print(file_path+':')\n",
    "    max_lines = 2\n",
    "    with open(file_path) as f:\n",
    "        print(\"\".join([next(f) for x in range(max_lines)]))"
   ]
  },
  {
   "cell_type": "code",
   "execution_count": 22,
   "metadata": {},
   "outputs": [
    {
     "data": {
      "application/vnd.jupyter.widget-view+json": {
       "model_id": "8f95f868f11043b8a190f24bb29914f7",
       "version_major": 2,
       "version_minor": 0
      },
      "text/plain": [
       "NGLWidget()"
      ]
     },
     "metadata": {},
     "output_type": "display_data"
    }
   ],
   "source": [
    "#Always run nglview with Mozilla Firefox\n",
    "#Might need to run: jupyter-nbextension enable nglview --py --sys-prefix\n",
    "#before launch jupyter-notebook in order to enable nglview command  \n",
    "#Visualize resul with nglview\n",
    "import nglview\n",
    "view = nglview.show_file(output_gro_path)\n",
    "view"
   ]
  },
  {
   "cell_type": "code",
   "execution_count": 23,
   "metadata": {},
   "outputs": [
    {
     "name": "stdout",
     "output_type": "stream",
     "text": [
      "./p2g_Protein_chain_C_pr.itp\n",
      "./p2g_Protein_chain_A_pr.itp\n",
      "./p2g_Protein_chain_C.itp\n",
      "./output_top_zip_path.zip\n",
      "./p2g_Protein_chain_B.itp\n",
      "./p2g_Protein_chain_A.itp\n",
      "./p2g_Protein_chain_D.itp\n",
      "./log.out\n",
      "./p2g.top\n",
      "./p2g_Protein_chain_B_pr.itp\n",
      "./output_gro_path.gro\n",
      "./.ipynb_checkpoints\n",
      "./p2g_Protein_chain_D_pr.itp\n",
      "./log.err\n"
     ]
    }
   ],
   "source": [
    "#Clean the directory\n",
    "!find . ! -iname \"*.ipynb\" -exec rm -rf {} 2>/dev/null \\; -print"
   ]
  },
  {
   "cell_type": "code",
   "execution_count": null,
   "metadata": {},
   "outputs": [],
   "source": []
  }
 ],
 "metadata": {
  "kernelspec": {
   "display_name": "Python 3",
   "language": "python",
   "name": "python3"
  },
  "language_info": {
   "codemirror_mode": {
    "name": "ipython",
    "version": 3
   },
   "file_extension": ".py",
   "mimetype": "text/x-python",
   "name": "python",
   "nbconvert_exporter": "python",
   "pygments_lexer": "ipython3",
   "version": "3.5.5"
  }
 },
 "nbformat": 4,
 "nbformat_minor": 2
}
