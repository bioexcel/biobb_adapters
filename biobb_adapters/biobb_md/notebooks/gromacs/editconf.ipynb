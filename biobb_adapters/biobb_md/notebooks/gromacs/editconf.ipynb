{
 "cells": [
  {
   "cell_type": "code",
   "execution_count": 2,
   "metadata": {},
   "outputs": [],
   "source": [
    "# Import module to test\n",
    "from gromacs.editconf import Editconf"
   ]
  },
  {
   "cell_type": "code",
   "execution_count": 3,
   "metadata": {},
   "outputs": [],
   "source": [
    "# Create prop dict and inputs/outputs\n",
    "prop = {}\n",
    "input_gro_path = '../../test/data/gromacs/editconf.gro'\n",
    "output_gro_path = 'output_gro_path.gro'"
   ]
  },
  {
   "cell_type": "code",
   "execution_count": 4,
   "metadata": {},
   "outputs": [
    {
     "data": {
      "text/plain": [
       "0"
      ]
     },
     "execution_count": 4,
     "metadata": {},
     "output_type": "execute_result"
    }
   ],
   "source": [
    "#Create and launch bb\n",
    "Editconf(input_gro_path=input_gro_path, output_gro_path=output_gro_path, properties=prop).launch()"
   ]
  },
  {
   "cell_type": "code",
   "execution_count": 5,
   "metadata": {},
   "outputs": [
    {
     "name": "stdout",
     "output_type": "stream",
     "text": [
      "2018-05-31 18:44:25,790 [MainThread  ] [INFO ]  Centering molecule in the box.\r\n",
      "2018-05-31 18:44:25,790 [MainThread  ] [INFO ]  Distance of the box to molecule: 1.0\r\n",
      "2018-05-31 18:44:25,790 [MainThread  ] [INFO ]  Box type: cubic\r\n",
      "2018-05-31 18:44:25,813 [MainThread  ] [INFO ]  gmx editconf -f ../../test/data/gromacs/editconf.gro -o output_gro_path.gro -d 1.0 -bt cubic -c\r\n",
      "\r\n",
      "2018-05-31 18:44:25,813 [MainThread  ] [INFO ]  Exit code 0\r\n",
      "\r\n",
      "2018-05-31 18:44:25,813 [MainThread  ] [INFO ]  Read 1196 atoms\r\n",
      "Volume: 729.19 nm^3, corresponds to roughly 328100 electrons\r\n",
      "No velocities found\r\n",
      "    system size :  5.722  6.526  3.712 (nm)\r\n",
      "    diameter    :  7.001               (nm)\r\n",
      "    center      :  4.500  4.501  4.501 (nm)\r\n",
      "    box vectors :  9.001  9.001  9.001 (nm)\r\n",
      "    box angles  :  90.00  90.00  90.00 (degrees)\r\n",
      "    box volume  : 729.19               (nm^3)\r\n",
      "    shift       :  0.000 -0.000 -0.000 (nm)\r\n",
      "new center      :  4.500  4.500  4.500 (nm)\r\n",
      "new box vectors :  9.001  9.001  9.001 (nm)\r\n",
      "new box angles  :  90.00  90.00  90.00 (degrees)\r\n",
      "new box volume  : 729.19               (nm^3)\r\n",
      "\r\n"
     ]
    }
   ],
   "source": [
    "#Show log\n",
    "!cat log.out"
   ]
  },
  {
   "cell_type": "code",
   "execution_count": 8,
   "metadata": {},
   "outputs": [
    {
     "name": "stdout",
     "output_type": "stream",
     "text": [
      "Created with pdb2gmx building block\n",
      " 1196\n",
      "    1SER      N    1   2.270   1.214   5.506\n",
      "    1SER     H1    2   2.288   1.242   5.411\n",
      "    1SER     H2    3   2.354   1.220   5.559\n",
      "    1SER     H3    4   2.237   1.120   5.507\n",
      "    1SER     CA    5   2.167   1.304   5.566\n",
      "    1SER     HA    6   2.083   1.294   5.512\n",
      "    1SER     CB    7   2.138   1.263   5.710\n",
      "    1SER    HB1    8   2.222   1.264   5.765\n",
      "\n"
     ]
    }
   ],
   "source": [
    "#Show result\n",
    "max_lines = 10\n",
    "with open(output_gro_path) as f:\n",
    "    print \"\".join([next(f) for x in xrange(max_lines)])"
   ]
  },
  {
   "cell_type": "code",
   "execution_count": 9,
   "metadata": {},
   "outputs": [
    {
     "data": {
      "application/vnd.jupyter.widget-view+json": {
       "model_id": "1c6d2ddd0e7a48f28eefe45a54213020",
       "version_major": 2,
       "version_minor": 0
      },
      "text/plain": [
       "NGLWidget()"
      ]
     },
     "metadata": {},
     "output_type": "display_data"
    }
   ],
   "source": [
    "#Always run nglview with Mozilla Firefox\n",
    "#Might need to run: jupyter-nbextension enable nglview --py --sys-prefix\n",
    "#before launch jupyter-notebook in order to enable nglview command  \n",
    "#Visualize resul with nglview\n",
    "import nglview\n",
    "view = nglview.show_file(output_gro_path)\n",
    "view"
   ]
  },
  {
   "cell_type": "code",
   "execution_count": 10,
   "metadata": {},
   "outputs": [
    {
     "name": "stdout",
     "output_type": "stream",
     "text": [
      "./log.out\r\n",
      "./output_gro_path.gro\r\n",
      "./.ipynb_checkpoints\r\n",
      "./log.err\r\n"
     ]
    }
   ],
   "source": [
    "#Clean the directory\n",
    "!find . ! -iname \"*.ipynb\" -exec rm -rf {} 2>/dev/null \\; -print"
   ]
  },
  {
   "cell_type": "code",
   "execution_count": null,
   "metadata": {},
   "outputs": [],
   "source": []
  }
 ],
 "metadata": {
  "kernelspec": {
   "display_name": "Python 2",
   "language": "python",
   "name": "python2"
  },
  "language_info": {
   "codemirror_mode": {
    "name": "ipython",
    "version": 2
   },
   "file_extension": ".py",
   "mimetype": "text/x-python",
   "name": "python",
   "nbconvert_exporter": "python",
   "pygments_lexer": "ipython2",
   "version": "2.7.15"
  }
 },
 "nbformat": 4,
 "nbformat_minor": 2
}
