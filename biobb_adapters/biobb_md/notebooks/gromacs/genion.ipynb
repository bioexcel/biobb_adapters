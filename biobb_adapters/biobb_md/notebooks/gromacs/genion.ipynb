{
 "cells": [
  {
   "cell_type": "code",
   "execution_count": 16,
   "metadata": {},
   "outputs": [],
   "source": [
    "# Import module to test\n",
    "from gromacs.genion import Genion"
   ]
  },
  {
   "cell_type": "code",
   "execution_count": 17,
   "metadata": {},
   "outputs": [],
   "source": [
    "# Create prop dict and inputs/outputs\n",
    "properties = {}\n",
    "input_tpr_path = '../../test/data/gromacs/genion.tpr'\n",
    "output_gro_path = 'output_gro_path.gro'\n",
    "input_top_zip_path = '../../test/data/gromacs/genion.zip'\n",
    "output_top_zip_path = 'output_top_zip_path.zip'"
   ]
  },
  {
   "cell_type": "code",
   "execution_count": 18,
   "metadata": {},
   "outputs": [
    {
     "data": {
      "text/plain": [
       "0"
      ]
     },
     "execution_count": 18,
     "metadata": {},
     "output_type": "execute_result"
    }
   ],
   "source": [
    "#Create and launch bb\n",
    "gio = Genion(input_tpr_path=input_tpr_path, output_gro_path=output_gro_path, input_top_zip_path=input_top_zip_path, output_top_zip_path=output_top_zip_path, properties=properties)\n",
    "gio.launch()"
   ]
  },
  {
   "cell_type": "code",
   "execution_count": 19,
   "metadata": {},
   "outputs": [
    {
     "name": "stdout",
     "output_type": "stream",
     "text": [
      "2018-06-11 16:33:22,893 [MainThread  ] [INFO ]  To reach up 0.05 mol/litre concentration\r\n",
      "2018-06-11 16:33:22,897 [MainThread  ] [INFO ]  Extracting: /home/pau/projects/biobb_md/test/data/gromacs/genion.zip\r\n",
      "2018-06-11 16:33:22,897 [MainThread  ] [INFO ]  to:\r\n",
      "2018-06-11 16:33:22,898 [MainThread  ] [INFO ]  ['/home/pau/projects/biobb_md/notebooks/gromacs/A.Lys58Glu_step4_p2g_p2g.itp', '/home/pau/projects/biobb_md/notebooks/gromacs/A.Lys58Glu_step8_gio_gio.top']\r\n",
      "2018-06-11 16:33:22,898 [MainThread  ] [INFO ]  Moving: /home/pau/projects/biobb_md/notebooks/gromacs/A.Lys58Glu_step8_gio_gio.top to: /home/pau/projects/biobb_md/notebooks/gromacs/gio.top\r\n",
      "2018-06-11 16:33:23,121 [MainThread  ] [INFO ]  echo \"SOL\" | gmx genion -s ../../test/data/gromacs/genion.tpr -o output_gro_path.gro -p gio.top -conc 0.05 -seed 1993\r\n",
      "\r\n",
      "2018-06-11 16:33:23,121 [MainThread  ] [INFO ]  Exit code 0\r\n",
      "\r\n",
      "2018-06-11 16:33:23,122 [MainThread  ] [INFO ]  Will try to add 22 NA ions and 22 CL ions.\r\n",
      "Select a continuous group of solvent molecules\r\n",
      "Selected 13: 'SOL'\r\n",
      "\r\n",
      "Processing topology\r\n",
      "Replacing 44 solute molecules in topology file (gio.top)  by 22 NA and 22 CL ions.\r\n",
      "\r\n",
      "2018-06-11 16:33:23,125 [MainThread  ] [INFO ]  Adding:\r\n",
      "2018-06-11 16:33:23,125 [MainThread  ] [INFO ]  ['A.Lys58Glu_step4_p2g_p2g.itp', 'gio.top']\r\n",
      "2018-06-11 16:33:23,125 [MainThread  ] [INFO ]  to: /home/pau/projects/biobb_md/notebooks/gromacs/output_top_zip_path.zip\r\n",
      "2018-06-11 16:33:39,213 [MainThread  ] [INFO ]  To reach up 0.05 mol/litre concentration\r\n",
      "2018-06-11 16:33:39,213 [MainThread  ] [INFO ]  To reach up 0.05 mol/litre concentration\r\n",
      "2018-06-11 16:33:39,217 [MainThread  ] [INFO ]  Extracting: /home/pau/projects/biobb_md/test/data/gromacs/genion.zip\r\n",
      "2018-06-11 16:33:39,217 [MainThread  ] [INFO ]  Extracting: /home/pau/projects/biobb_md/test/data/gromacs/genion.zip\r\n",
      "2018-06-11 16:33:39,217 [MainThread  ] [INFO ]  to:\r\n",
      "2018-06-11 16:33:39,217 [MainThread  ] [INFO ]  to:\r\n",
      "2018-06-11 16:33:39,218 [MainThread  ] [INFO ]  ['/home/pau/projects/biobb_md/notebooks/gromacs/A.Lys58Glu_step4_p2g_p2g.itp', '/home/pau/projects/biobb_md/notebooks/gromacs/A.Lys58Glu_step8_gio_gio.top']\r\n",
      "2018-06-11 16:33:39,218 [MainThread  ] [INFO ]  ['/home/pau/projects/biobb_md/notebooks/gromacs/A.Lys58Glu_step4_p2g_p2g.itp', '/home/pau/projects/biobb_md/notebooks/gromacs/A.Lys58Glu_step8_gio_gio.top']\r\n",
      "2018-06-11 16:33:39,218 [MainThread  ] [INFO ]  Moving: /home/pau/projects/biobb_md/notebooks/gromacs/A.Lys58Glu_step8_gio_gio.top to: /home/pau/projects/biobb_md/notebooks/gromacs/gio.top\r\n",
      "2018-06-11 16:33:39,218 [MainThread  ] [INFO ]  Moving: /home/pau/projects/biobb_md/notebooks/gromacs/A.Lys58Glu_step8_gio_gio.top to: /home/pau/projects/biobb_md/notebooks/gromacs/gio.top\r\n",
      "2018-06-11 16:33:39,425 [MainThread  ] [INFO ]  echo \"SOL\" | gmx genion -s ../../test/data/gromacs/genion.tpr -o output_gro_path.gro -p gio.top -conc 0.05 -seed 1993\r\n",
      "\r\n",
      "2018-06-11 16:33:39,425 [MainThread  ] [INFO ]  echo \"SOL\" | gmx genion -s ../../test/data/gromacs/genion.tpr -o output_gro_path.gro -p gio.top -conc 0.05 -seed 1993\r\n",
      "\r\n",
      "2018-06-11 16:33:39,426 [MainThread  ] [INFO ]  Exit code 0\r\n",
      "\r\n",
      "2018-06-11 16:33:39,426 [MainThread  ] [INFO ]  Exit code 0\r\n",
      "\r\n",
      "2018-06-11 16:33:39,426 [MainThread  ] [INFO ]  Will try to add 22 NA ions and 22 CL ions.\r\n",
      "Select a continuous group of solvent molecules\r\n",
      "Selected 13: 'SOL'\r\n",
      "\r\n",
      "Processing topology\r\n",
      "Replacing 44 solute molecules in topology file (gio.top)  by 22 NA and 22 CL ions.\r\n",
      "\r\n",
      "2018-06-11 16:33:39,426 [MainThread  ] [INFO ]  Will try to add 22 NA ions and 22 CL ions.\r\n",
      "Select a continuous group of solvent molecules\r\n",
      "Selected 13: 'SOL'\r\n",
      "\r\n",
      "Processing topology\r\n",
      "Replacing 44 solute molecules in topology file (gio.top)  by 22 NA and 22 CL ions.\r\n",
      "\r\n",
      "2018-06-11 16:33:39,429 [MainThread  ] [INFO ]  Adding:\r\n",
      "2018-06-11 16:33:39,429 [MainThread  ] [INFO ]  Adding:\r\n",
      "2018-06-11 16:33:39,429 [MainThread  ] [INFO ]  ['A.Lys58Glu_step4_p2g_p2g.itp', 'gio.top']\r\n",
      "2018-06-11 16:33:39,429 [MainThread  ] [INFO ]  ['A.Lys58Glu_step4_p2g_p2g.itp', 'gio.top']\r\n",
      "2018-06-11 16:33:39,429 [MainThread  ] [INFO ]  to: /home/pau/projects/biobb_md/notebooks/gromacs/output_top_zip_path.zip\r\n",
      "2018-06-11 16:33:39,429 [MainThread  ] [INFO ]  to: /home/pau/projects/biobb_md/notebooks/gromacs/output_top_zip_path.zip\r\n"
     ]
    }
   ],
   "source": [
    "#Show log\n",
    "!cat log.out"
   ]
  },
  {
   "cell_type": "code",
   "execution_count": 20,
   "metadata": {},
   "outputs": [],
   "source": [
    "#Unzip list\n",
    "from biobb_common.tools.file_utils import unzip_list\n",
    "file_list = unzip_list(output_top_zip_path)"
   ]
  },
  {
   "cell_type": "code",
   "execution_count": 21,
   "metadata": {},
   "outputs": [
    {
     "name": "stdout",
     "output_type": "stream",
     "text": [
      "/home/pau/projects/biobb_md/notebooks/gromacs/A.Lys58Glu_step4_p2g_p2g.itp:\n",
      "; In this topology include file, you will find position restraint\n",
      "; entries for all the heavy atoms in your original pdb file.\n",
      "; This means that all the protons which were added by pdb2gmx are\n",
      "; not restrained.\n",
      "\n",
      "[ position_restraints ]\n",
      "; atom  type      fx      fy      fz\n",
      "     1     1  1000  1000  1000\n",
      "     5     1  1000  1000  1000\n",
      "     7     1  1000  1000  1000\n",
      "\n",
      "/home/pau/projects/biobb_md/notebooks/gromacs/gio.top:\n",
      ";\n",
      ";\tFile 'A.Lys58Glu_step4_p2g_p2g.top' was generated\n",
      ";\tBy user: pau (1000)\n",
      ";\tOn host: paubsc\n",
      ";\tAt date: Tue Oct 24 12:55:54 2017\n",
      "\n",
      ";\n",
      ";\tThis is a standalone topology file\n",
      ";\n",
      ";\tCreated by:\n",
      "\n"
     ]
    }
   ],
   "source": [
    "#Show result\n",
    "for file_path in file_list:\n",
    "    print file_path+':'\n",
    "    max_lines = 10\n",
    "    with open(file_path) as f:\n",
    "        print \"\".join([next(f) for x in xrange(max_lines)])"
   ]
  },
  {
   "cell_type": "code",
   "execution_count": 22,
   "metadata": {},
   "outputs": [
    {
     "data": {
      "application/vnd.jupyter.widget-view+json": {
       "model_id": "4c70371295664aa1b1bf6c356ee74313",
       "version_major": 2,
       "version_minor": 0
      },
      "text/plain": [
       "NGLWidget()"
      ]
     },
     "metadata": {},
     "output_type": "display_data"
    }
   ],
   "source": [
    "#Always run nglview with Mozilla Firefox\n",
    "#Might need to run: jupyter-nbextension enable nglview --py --sys-prefix\n",
    "#before launch jupyter-notebook in order to enable nglview command  \n",
    "#Visualize resul with nglview\n",
    "import nglview\n",
    "view = nglview.show_file(output_gro_path)\n",
    "view"
   ]
  },
  {
   "cell_type": "code",
   "execution_count": 23,
   "metadata": {},
   "outputs": [
    {
     "name": "stdout",
     "output_type": "stream",
     "text": [
      "./.ipynb_checkpoints\r\n",
      "./log.err\r\n",
      "./A.Lys58Glu_step4_p2g_p2g.itp\r\n",
      "./gio.top\r\n",
      "./output_gro_path.gro\r\n",
      "./output_top_zip_path.zip\r\n",
      "./#gio.top.2#\r\n",
      "./#gio.top.1#\r\n",
      "./#output_gro_path.gro.1#\r\n",
      "./log.out\r\n"
     ]
    }
   ],
   "source": [
    "#Clean the directory\n",
    "!find . ! -iname \"*.ipynb\" -exec rm -rf {} 2>/dev/null \\; -print"
   ]
  },
  {
   "cell_type": "code",
   "execution_count": null,
   "metadata": {},
   "outputs": [],
   "source": []
  }
 ],
 "metadata": {
  "kernelspec": {
   "display_name": "Python 2",
   "language": "python",
   "name": "python2"
  },
  "language_info": {
   "codemirror_mode": {
    "name": "ipython",
    "version": 2
   },
   "file_extension": ".py",
   "mimetype": "text/x-python",
   "name": "python",
   "nbconvert_exporter": "python",
   "pygments_lexer": "ipython2",
   "version": "2.7.15"
  }
 },
 "nbformat": 4,
 "nbformat_minor": 2
}
